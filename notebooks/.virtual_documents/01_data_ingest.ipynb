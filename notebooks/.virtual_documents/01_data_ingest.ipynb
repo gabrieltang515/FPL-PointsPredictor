import pandas as pd
df = pd.read_csv("../data/processed/player_gw_stats.csv")



import os

# 1. Where is Jupyter actually running?
print("Working dir:", os.getcwd())

# 2. What’s in it?
print("Contents:", os.listdir("."))

# 3. Do we even have a data folder?
print("data in cwd?:", os.path.exists("data"), os.path.isdir("data"))
if os.path.exists("data"):
    print("data contains:", os.listdir("data"))



import pandas as pd

# Adjust path if needed:
path = "data/raw/historical/fpl_training.csv"
df = pd.read_csv(path, nrows=5)

print("Columns in historical file:", df.columns.tolist())
print(df.head(3))



import os, pandas as pd

# 1. See where we are
print("Notebook cwd:", os.getcwd())
print("data/raw contains:", os.listdir(os.path.join("..","data","raw")))

# 2. Confirm your historical folder
hist_path = os.path.join("..","data","raw","historical")
print("historical contains:", os.listdir(hist_path))

# 3. Now read with the correct relative path
csv_path = os.path.join(hist_path, "fpl_training.csv")
print("Loading from:", csv_path)
df = pd.read_csv(csv_path, nrows=5)
print("Columns:", df.columns.tolist())



import pandas as pd

# Adjust path if needed:
path = "../data/raw/historical/fpl_training.csv"
df = pd.read_csv(path, nrows=5)

print("Columns in historical file:", df.columns.tolist())
print(df.head(3))



import pandas as pd
from src.features import load_processed, make_features, get_X_y
from sklearn.model_selection import train_test_split

# 1. Load and featurize exactly as in src/model.py
df   = load_processed("data/processed/player_gw_stats.csv")
feat = make_features(df, window=3)
X, y = get_X_y(feat)

# 2. Time‐aware split (same as model.py)
X_train, X_test, y_train, y_test = train_test_split(
    X, y, test_size=0.2, shuffle=False
)

